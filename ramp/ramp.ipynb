{
 "cells": [
  {
   "cell_type": "code",
   "execution_count": 28,
   "metadata": {
    "collapsed": false
   },
   "outputs": [],
   "source": [
    "import cPickle as pickle\n",
    "import matplotlib.pyplot as plt\n",
    "import numpy as np\n",
    "from sklearn.decomposition import PCA, TruncatedSVD\n",
    "from sklearn.manifold import MDS, Isomap, TSNE, LocallyLinearEmbedding\n",
    "import pandas as pd\n",
    "from scipy.spatial.distance import euclidean, hamming\n",
    "from ensemble_machine.model import EnsembleMachine\n",
    "from lasagne import updates\n",
    "from sklearn.preprocessing import StandardScaler\n",
    "%matplotlib inline\n",
    "import theano\n",
    "\n",
    "from ensemble_machine.model import model_representation_by_increasing_mean\n",
    "\n",
    "ramp = 4"
   ]
  },
  {
   "cell_type": "code",
   "execution_count": 2,
   "metadata": {
    "collapsed": false
   },
   "outputs": [],
   "source": [
    "obj = pickle.load(open(\"result_ramp%d.dat\" % (ramp,)))"
   ]
  },
  {
   "cell_type": "code",
   "execution_count": 49,
   "metadata": {
    "collapsed": false
   },
   "outputs": [
    {
     "name": "stdout",
     "output_type": "stream",
     "text": [
      "['Delf#feature_drop', 'Delf#very_slow_xgb']\n"
     ]
    }
   ],
   "source": [
    "obj.keys()"
   ]
  },
  {
   "cell_type": "code",
   "execution_count": 90,
   "metadata": {
    "collapsed": false
   },
   "outputs": [
    {
     "name": "stdout",
     "output_type": "stream",
     "text": [
      "breaking at iteration 2 with stress 5.04870979341e-29\n",
      "breaking at iteration 2 with stress 5.04870979341e-29\n",
      "breaking at iteration 2 with stress 5.04870979341e-29\n",
      "breaking at iteration 2 with stress 0.0\n",
      "breaking at iteration 2 with stress 5.04870979341e-29\n",
      "breaking at iteration 2 with stress 2.01948391737e-28\n",
      "breaking at iteration 2 with stress 5.04870979341e-29\n",
      "breaking at iteration 2 with stress 0.0\n",
      "breaking at iteration 2 with stress 0.0\n",
      "breaking at iteration 2 with stress 5.04870979341e-29\n",
      "0.0\n"
     ]
    }
   ],
   "source": [
    "num_folds = obj[\"pred\"].shape[1]\n",
    "num_prediction = obj[\"num_prediction\"]\n",
    "y_dim = obj[\"y_dim\"]\n",
    "o = obj[\"pred\"]\n",
    "o = o.reshape( (o.shape[0], o.shape[1], o.shape[2]/y_dim, y_dim) )\n",
    "o = o[:, :, 0:num_prediction, :]\n",
    "o = o.reshape( (o.shape[0], o.shape[1], o.shape[2] * o.shape[3]) )\n",
    "o = o[:, 0:num_folds, :]\n",
    "o = o.reshape( (o.shape[0], o.shape[1]*o.shape[2]) )\n",
    "o = o.astype(theano.config.floatX)\n",
    "es = EnsembleMachine(n_components=2)\n",
    "es.fit_with_mds(o, n_components=o.shape[1])\n",
    "print(es.stress_)\n",
    "Z = es.Z.get_value()\n",
    "Y = es.Y.get_value()"
   ]
  },
  {
   "cell_type": "code",
   "execution_count": 91,
   "metadata": {
    "collapsed": false
   },
   "outputs": [
    {
     "name": "stdout",
     "output_type": "stream",
     "text": [
      "(800, 0.0)\n",
      "(700, 0.0)\n",
      "(500, 0.0)\n",
      "(300, 0.0)\n",
      "(100, 0.0)\n",
      "(50, 0.0)\n",
      "(30, 0.0)\n",
      "(20, 0.0)\n",
      "(10, 0.0)\n",
      "(2, 0.0)\n"
     ]
    },
    {
     "data": {
      "text/plain": [
       "[<matplotlib.lines.Line2D at 0xa2d2262c>]"
      ]
     },
     "execution_count": 91,
     "metadata": {},
     "output_type": "execute_result"
    },
    {
     "data": {
      "image/png": "[encoded data removed]",
      "text/plain": [
       "<matplotlib.figure.Figure at 0xa5b9b9ec>"
      ]
     },
     "metadata": {},
     "output_type": "display_data"
    }
   ],
   "source": [
    "d=[]\n",
    "dim = (800, 700, 500, 300, 100, 50, 30, 20 ,10, 2)\n",
    "plt.xlim((dim[0], dim[-1]))\n",
    "for i in dim:\n",
    "    m = MDS(n_components=i)\n",
    "    m.fit(o)\n",
    "    d.append(m.stress_)\n",
    "    print(i, m.stress_)\n",
    "plt.plot(dim, d)"
   ]
  },
  {
   "cell_type": "code",
   "execution_count": 92,
   "metadata": {
    "collapsed": false
   },
   "outputs": [],
   "source": [
    "scores_csv = pd.read_csv(\"scores_ramp%d.csv\" % (ramp,))\n",
    "filter_names = np.array([False] * len(scores_csv))\n",
    "for name in obj[\"names\"]:\n",
    "    filter_names |= (scores_csv[\"model\"]==name.split(\"#\")[1])\n",
    "\n",
    "scores_csv = scores_csv[filter_names]\n",
    "scores = [0] * len(obj[\"names\"])\n",
    "contrib = [0] * len(obj[\"names\"])\n",
    "only_model_names = [\"\"] * len(obj[\"names\"])\n",
    "ind = {}\n",
    "for i, name in enumerate(obj[\"names\"]):\n",
    "    ind[name] = i\n",
    "for i, (model_name, s, c) in enumerate(zip(scores_csv[\"team\"]+\"#\"+scores_csv[\"model\"], \n",
    "                            scores_csv[\"score\"],\n",
    "                            scores_csv[\"contributivity\"])):\n",
    "    if model_name in ind:\n",
    "        scores[ind[model_name]] = s\n",
    "        contrib[ind[model_name]] = c\n",
    "        only_model_names[ind[model_name]] = scores_csv[\"model\"][ind]\n",
    "scores = np.array(scores)\n",
    "contrib = np.array(contrib)"
   ]
  },
  {
   "cell_type": "code",
   "execution_count": 93,
   "metadata": {
    "collapsed": false
   },
   "outputs": [
    {
     "name": "stdout",
     "output_type": "stream",
     "text": [
      "          x         y   score  contrib                name  team  \\\n",
      "0  0.055005 -0.032669  0.4509       81   Delf#feature_drop  Delf   \n",
      "1 -0.055005  0.032669  0.4485      170  Delf#very_slow_xgb  Delf   \n",
      "\n",
      "             tag  team_id  \n",
      "0   feature_drop        1  \n",
      "1  very_slow_xgb        1  \n"
     ]
    }
   ],
   "source": [
    "columns = [\"x\", \"y\", \"score\", \"contrib\", \"name\", \"team\", \"tag\", \"team_id\"]\n",
    "\n",
    "data = pd.DataFrame(columns=columns)\n",
    "\n",
    "data[\"x\"] = Z[:, 0]\n",
    "data[\"y\"] = Z[:, 1]\n",
    "data[\"score\"] = scores\n",
    "data[\"contrib\"] = contrib\n",
    "data[\"name\"] = obj[\"names\"]\n",
    "data[\"team\"] = [name.split(\"#\")[0] for name in obj[\"names\"]]\n",
    "data[\"tag\"] = [name.split(\"#\")[1] for name in obj[\"names\"]]\n",
    "\n",
    "t = list(set(data[\"team\"].tolist()))\n",
    "ind = {a:i for i, a in enumerate(t)}\n",
    "data[\"team_id\"] = [ind[tname] + 1 for tname in data[\"team\"]]\n",
    "print(data)"
   ]
  },
  {
   "cell_type": "code",
   "execution_count": 94,
   "metadata": {
    "collapsed": false
   },
   "outputs": [
    {
     "data": {
      "image/png": "[encoded data removed]",
      "text/plain": [
       "<matplotlib.figure.Figure at 0xa2c5526c>"
      ]
     },
     "metadata": {},
     "output_type": "display_data"
    }
   ],
   "source": [
    "D = data[data[\"contrib\"] > 2]\n",
    "#D = data[data[\"team\"].str.contains(\"NeuralTheano\")]\n",
    "#D = data\n",
    "plt.scatter(D[\"x\"], D[\"y\"], s=D[\"contrib\"]*5, c=D[\"team_id\"], alpha=0.5)\n",
    "for name, x, y in zip(D[\"tag\"], D[\"x\"], D[\"y\"]):\n",
    "    plt.annotate(name, xy=(x,y))\n",
    "plt.show()"
   ]
  },
  {
   "cell_type": "code",
   "execution_count": 95,
   "metadata": {
    "collapsed": false
   },
   "outputs": [
    {
     "name": "stdout",
     "output_type": "stream",
     "text": [
      "61878\n"
     ]
    }
   ],
   "source": [
    "from sklearn.cross_validation import StratifiedShuffleSplit\n",
    "from sklearn.preprocessing import StandardScaler\n",
    "import hashlib\n",
    "target_column_name = 'target'\n",
    "train_filename = \"train.csv\"\n",
    "test_filename = \"test.csv\"\n",
    "skf_test_size = 0.5\n",
    "random_state = 57\n",
    "n_CV = 27 * 3\n",
    "def get_hash_string_from_indices(index_list):\n",
    "    \"\"\"We identify files output on cross validation (models, predictions)\n",
    "    by hashing the point indices coming from an skf object.\n",
    "\n",
    "    Parameters\n",
    "    ----------\n",
    "    test_is : np.array, shape (size_of_set,)\n",
    "\n",
    "    Returns\n",
    "    -------\n",
    "    hash_string\n",
    "    \"\"\"\n",
    "    hasher = hashlib.md5()\n",
    "    hasher.update(index_list)\n",
    "    return hasher.hexdigest()\n",
    "\n",
    "def get_hashes(skf):\n",
    "    h = []\n",
    "    for train_is, test_is in skf:\n",
    "        print(type(train_is)) \n",
    "        hash_string = get_hash_string_from_indices(train_is)\n",
    "        h.append(hash_string)\n",
    "    return h\n",
    "# X is a list of dicts, each dict is indexed by column\n",
    "def read_data(df_filename):\n",
    "    df = pd.read_csv(df_filename, index_col=0) # this drops the id actually\n",
    "    y_array = df[target_column_name].values\n",
    "    X_dict = df.drop(target_column_name, axis=1).to_dict(orient='records')\n",
    "    return X_dict, y_array\n",
    "\n",
    "def prepare_data():\n",
    "    pass\n",
    "    # train and tes splits are given\n",
    "    \n",
    "def split_data(num_folds=n_CV):\n",
    "    X_train_dict, y_train_array = read_data(train_filename)\n",
    "    #X_test_dict, y_test_array = read_data(test_filename)\n",
    "    skf = StratifiedShuffleSplit(y_train_array, n_iter=num_folds,\n",
    "        test_size=skf_test_size, random_state=random_state)\n",
    "    return X_train_dict, y_train_array, skf\n",
    "\n",
    "class FeatureExtractor(object):\n",
    " \n",
    "    def __init__(self):\n",
    "        pass\n",
    " \n",
    "    def fit(self, X_dict, y):\n",
    "        pass\n",
    " \n",
    "    def transform(self, X_dict):\n",
    "        cols = X_dict[0].keys()\n",
    "        return np.array([[instance[col] for col in cols] for instance in X_dict])\n",
    "    \n",
    "X_all, y_all, skf = split_data(num_folds)\n",
    "skf = list(skf)\n",
    "skf = skf[0:num_folds]\n",
    "X_all = FeatureExtractor().transform(X_all).astype(theano.config.floatX)\n",
    "s = StandardScaler()\n",
    "X_all = s.fit_transform(X_all)\n",
    "from sklearn.preprocessing import LabelEncoder\n",
    "label_encoder = LabelEncoder()\n",
    "y_all = label_encoder.fit_transform(y_all)\n",
    "print(len(y_all))"
   ]
  },
  {
   "cell_type": "code",
   "execution_count": 96,
   "metadata": {
    "collapsed": false
   },
   "outputs": [
    {
     "name": "stdout",
     "output_type": "stream",
     "text": [
      "[56303 14095 30894 ..., 44087 55969  4965]\n",
      "(30937, 93)\n",
      "(30937,)\n",
      "(2, 278433)\n"
     ]
    }
   ],
   "source": [
    "X = np.zeros( (  num_prediction, X_all.shape[1], num_folds) )\n",
    "y = np.empty((X.shape[0], num_folds), dtype=object)\n",
    "fold = 0\n",
    "\n",
    "idx_rest = np.ones((X_all.shape[0],))\n",
    "\n",
    "for train, test in skf:\n",
    "    print(test)\n",
    "    X[:, :, fold] = X_all[test][0:num_prediction]\n",
    "    y[:, fold] = y_all[test][0:num_prediction]\n",
    "    fold += 1\n",
    "    idx_rest[test] = False\n",
    "\n",
    "idx_rest = idx_rest.astype(np.bool)\n",
    "X = X.transpose((0, 2, 1))\n",
    "X = X.reshape( (X.shape[0]*X.shape[1], X.shape[2]) )    \n",
    "y = y.flatten()\n",
    "print(X.shape)\n",
    "print(y.shape)\n",
    "\n",
    "print(o.shape)"
   ]
  },
  {
   "cell_type": "code",
   "execution_count": 98,
   "metadata": {
    "collapsed": false
   },
   "outputs": [],
   "source": [
    "from sklearn.cross_validation import StratifiedShuffleSplit\n",
    "\n",
    "X = X.astype(theano.config.floatX)\n",
    "y = y.astype(np.int32)\n",
    "\n",
    "test_size = 0.25\n",
    "to = int(X.shape[0]*(1-test_size))\n",
    "X_train, y_train = X[0:to], y[0:to]\n",
    "X_test, y_test = X[to:], y[to:]"
   ]
  },
  {
   "cell_type": "code",
   "execution_count": null,
   "metadata": {
    "collapsed": true
   },
   "outputs": [],
   "source": []
  },
  {
   "cell_type": "code",
   "execution_count": 99,
   "metadata": {
    "collapsed": false
   },
   "outputs": [
    {
     "data": {
      "image/png": "[encoded data removed]",
      "text/plain": [
       "<matplotlib.figure.Figure at 0xa5bfa9ec>"
      ]
     },
     "metadata": {},
     "output_type": "display_data"
    }
   ],
   "source": [
    "import matplotlib.pyplot as plt\n",
    "def st(stats, name):\n",
    "    return [a[name] for a in stats]\n",
    "\n",
    "#plt.plot(st(batch_optimizer.stats, \"loss\"), label=\"loss\")\n",
    "#plt.plot(st(batch_optimizer.stats, \"loss_accuracy\"), label=\"loss_accuracy\")\n",
    "#plt.plot(st(batch_optimizer.stats, \"loss_ensemble_machine\"), label=\"loss_ensemble_machine\")\n",
    "plt.plot(st(batch_optimizer.stats, \"accuracy\"), label=\"accuracy\")\n",
    "\n",
    "plt.legend()\n",
    "plt.show()"
   ]
  },
  {
   "cell_type": "code",
   "execution_count": 100,
   "metadata": {
    "collapsed": false
   },
   "outputs": [
    {
     "ename": "NameError",
     "evalue": "name 'models_new' is not defined",
     "output_type": "error",
     "traceback": [
      "\u001b[1;31m---------------------------------------------------------------------------\u001b[0m",
      "\u001b[1;31mNameError\u001b[0m                                 Traceback (most recent call last)",
      "\u001b[1;32m<ipython-input-100-6661ca4b1527>\u001b[0m in \u001b[0;36m<module>\u001b[1;34m()\u001b[0m\n\u001b[0;32m      1\u001b[0m new_models_predictions = [\n\u001b[0;32m      2\u001b[0m     \u001b[1;33m(\u001b[0m\u001b[0mes\u001b[0m\u001b[1;33m.\u001b[0m\u001b[0mpredict_proba\u001b[0m\u001b[1;33m(\u001b[0m\u001b[0mX\u001b[0m\u001b[1;33m)\u001b[0m\u001b[1;33m)\u001b[0m\u001b[1;33m.\u001b[0m\u001b[0mflatten\u001b[0m\u001b[1;33m(\u001b[0m\u001b[1;33m)\u001b[0m\u001b[1;33m[\u001b[0m\u001b[0mnp\u001b[0m\u001b[1;33m.\u001b[0m\u001b[0mnewaxis\u001b[0m\u001b[1;33m,\u001b[0m \u001b[1;33m:\u001b[0m\u001b[1;33m]\u001b[0m\u001b[1;33m\u001b[0m\u001b[0m\n\u001b[1;32m----> 3\u001b[1;33m     for model in models_new]\n\u001b[0m\u001b[0;32m      4\u001b[0m \u001b[0ma\u001b[0m\u001b[1;33m=\u001b[0m\u001b[0mnp\u001b[0m\u001b[1;33m.\u001b[0m\u001b[0mconcatenate\u001b[0m\u001b[1;33m(\u001b[0m \u001b[1;33m[\u001b[0m\u001b[0mY\u001b[0m\u001b[1;33m]\u001b[0m \u001b[1;33m+\u001b[0m \u001b[0mnew_models_predictions\u001b[0m\u001b[1;33m,\u001b[0m \u001b[0maxis\u001b[0m\u001b[1;33m=\u001b[0m\u001b[1;36m0\u001b[0m\u001b[1;33m)\u001b[0m\u001b[1;33m\u001b[0m\u001b[0m\n\u001b[0;32m      5\u001b[0m \u001b[0mes_2\u001b[0m \u001b[1;33m=\u001b[0m \u001b[0mEnsembleMachine\u001b[0m\u001b[1;33m(\u001b[0m\u001b[0mn_components\u001b[0m\u001b[1;33m=\u001b[0m\u001b[1;36m2\u001b[0m\u001b[1;33m)\u001b[0m\u001b[1;33m\u001b[0m\u001b[0m\n",
      "\u001b[1;31mNameError\u001b[0m: name 'models_new' is not defined"
     ]
    }
   ],
   "source": [
    "new_models_predictions = [\n",
    "    (es.predict_proba(X)).flatten()[np.newaxis, :]\n",
    "    for model in models_new]\n",
    "a=np.concatenate( [Y] + new_models_predictions, axis=0)\n",
    "es_2 = EnsembleMachine(n_components=2)\n",
    "es_2.fit_with_pca(a)\n",
    "Z_ = es_2.Z.get_value()"
   ]
  },
  {
   "cell_type": "code",
   "execution_count": 101,
   "metadata": {
    "collapsed": false
   },
   "outputs": [
    {
     "ename": "NameError",
     "evalue": "name 'models_new' is not defined",
     "output_type": "error",
     "traceback": [
      "\u001b[1;31m---------------------------------------------------------------------------\u001b[0m",
      "\u001b[1;31mNameError\u001b[0m                                 Traceback (most recent call last)",
      "\u001b[1;32m<ipython-input-101-7da07f54f123>\u001b[0m in \u001b[0;36m<module>\u001b[1;34m()\u001b[0m\n\u001b[0;32m      1\u001b[0m \u001b[0mdata\u001b[0m \u001b[1;33m=\u001b[0m \u001b[0mpd\u001b[0m\u001b[1;33m.\u001b[0m\u001b[0mDataFrame\u001b[0m\u001b[1;33m(\u001b[0m\u001b[0mcolumns\u001b[0m\u001b[1;33m=\u001b[0m\u001b[0mcolumns\u001b[0m\u001b[1;33m)\u001b[0m\u001b[1;33m\u001b[0m\u001b[0m\n\u001b[1;32m----> 2\u001b[1;33m \u001b[0mscores_new\u001b[0m \u001b[1;33m=\u001b[0m \u001b[0mnp\u001b[0m\u001b[1;33m.\u001b[0m\u001b[0marray\u001b[0m\u001b[1;33m(\u001b[0m\u001b[0mscores\u001b[0m\u001b[1;33m.\u001b[0m\u001b[0mtolist\u001b[0m\u001b[1;33m(\u001b[0m\u001b[1;33m)\u001b[0m \u001b[1;33m+\u001b[0m \u001b[1;33m[\u001b[0m\u001b[1;36m0\u001b[0m\u001b[1;33m]\u001b[0m \u001b[1;33m*\u001b[0m \u001b[0mlen\u001b[0m\u001b[1;33m(\u001b[0m\u001b[0mmodels_new\u001b[0m\u001b[1;33m)\u001b[0m\u001b[1;33m)\u001b[0m\u001b[1;33m\u001b[0m\u001b[0m\n\u001b[0m\u001b[0;32m      3\u001b[0m \u001b[0mcontrib_new\u001b[0m \u001b[1;33m=\u001b[0m \u001b[0mnp\u001b[0m\u001b[1;33m.\u001b[0m\u001b[0marray\u001b[0m\u001b[1;33m(\u001b[0m\u001b[0mcontrib\u001b[0m\u001b[1;33m.\u001b[0m\u001b[0mtolist\u001b[0m\u001b[1;33m(\u001b[0m\u001b[1;33m)\u001b[0m \u001b[1;33m+\u001b[0m \u001b[1;33m[\u001b[0m\u001b[1;36m10\u001b[0m\u001b[1;33m]\u001b[0m \u001b[1;33m*\u001b[0m \u001b[0mlen\u001b[0m\u001b[1;33m(\u001b[0m\u001b[0mmodels_new\u001b[0m\u001b[1;33m)\u001b[0m\u001b[1;33m)\u001b[0m\u001b[1;33m\u001b[0m\u001b[0m\n\u001b[0;32m      4\u001b[0m \u001b[0mnames_new\u001b[0m \u001b[1;33m=\u001b[0m \u001b[0mobj\u001b[0m\u001b[1;33m[\u001b[0m\u001b[1;34m\"names\"\u001b[0m\u001b[1;33m]\u001b[0m \u001b[1;33m+\u001b[0m \u001b[1;33m[\u001b[0m\u001b[1;34m\"new_team#new\"\u001b[0m\u001b[1;33m]\u001b[0m \u001b[1;33m*\u001b[0m \u001b[0mlen\u001b[0m\u001b[1;33m(\u001b[0m\u001b[0mmodels_new\u001b[0m\u001b[1;33m)\u001b[0m\u001b[1;33m\u001b[0m\u001b[0m\n\u001b[0;32m      5\u001b[0m \u001b[0mdata\u001b[0m\u001b[1;33m[\u001b[0m\u001b[1;34m\"x\"\u001b[0m\u001b[1;33m]\u001b[0m \u001b[1;33m=\u001b[0m \u001b[0mZ_\u001b[0m\u001b[1;33m[\u001b[0m\u001b[1;33m:\u001b[0m\u001b[1;33m,\u001b[0m \u001b[1;36m0\u001b[0m\u001b[1;33m]\u001b[0m\u001b[1;33m\u001b[0m\u001b[0m\n",
      "\u001b[1;31mNameError\u001b[0m: name 'models_new' is not defined"
     ]
    }
   ],
   "source": [
    "data = pd.DataFrame(columns=columns)\n",
    "scores_new = np.array(scores.tolist() + [0] * len(models_new))\n",
    "contrib_new = np.array(contrib.tolist() + [10] * len(models_new))\n",
    "names_new = obj[\"names\"] + [\"new_team#new\"] * len(models_new)\n",
    "data[\"x\"] = Z_[:, 0]\n",
    "data[\"y\"] = Z_[:, 1]\n",
    "data[\"score\"] = scores_new\n",
    "data[\"contrib\"] = contrib_new\n",
    "data[\"name\"] = names_new\n",
    "data[\"team\"] = [name.split(\"#\")[0] for name in names_new]\n",
    "data[\"tag\"] = [name.split(\"#\")[1] for name in names_new]\n",
    "t = list(set(data[\"team\"].tolist()))\n",
    "ind = {a:i for i, a in enumerate(t)}\n",
    "data[\"team_id\"] = [ind[tname] + 1 for tname in data[\"team\"]]"
   ]
  },
  {
   "cell_type": "code",
   "execution_count": 102,
   "metadata": {
    "collapsed": false
   },
   "outputs": [
    {
     "ename": "ValueError",
     "evalue": "First argument must be a sequence",
     "output_type": "error",
     "traceback": [
      "\u001b[1;31m---------------------------------------------------------------------------\u001b[0m",
      "\u001b[1;31mValueError\u001b[0m                                Traceback (most recent call last)",
      "\u001b[1;32m<ipython-input-102-48502ee17b8c>\u001b[0m in \u001b[0;36m<module>\u001b[1;34m()\u001b[0m\n\u001b[0;32m      1\u001b[0m \u001b[0mD\u001b[0m \u001b[1;33m=\u001b[0m \u001b[0mdata\u001b[0m\u001b[1;33m[\u001b[0m\u001b[0mdata\u001b[0m\u001b[1;33m[\u001b[0m\u001b[1;34m\"contrib\"\u001b[0m\u001b[1;33m]\u001b[0m \u001b[1;33m>\u001b[0m \u001b[1;36m2\u001b[0m\u001b[1;33m]\u001b[0m\u001b[1;33m\u001b[0m\u001b[0m\n\u001b[0;32m      2\u001b[0m \u001b[1;31m#D = data[data[\"team\"].str.contains(\"NeuralTheano\")]\u001b[0m\u001b[1;33m\u001b[0m\u001b[1;33m\u001b[0m\u001b[0m\n\u001b[1;32m----> 3\u001b[1;33m \u001b[0mplt\u001b[0m\u001b[1;33m.\u001b[0m\u001b[0mscatter\u001b[0m\u001b[1;33m(\u001b[0m\u001b[0mD\u001b[0m\u001b[1;33m[\u001b[0m\u001b[1;34m\"x\"\u001b[0m\u001b[1;33m]\u001b[0m\u001b[1;33m,\u001b[0m \u001b[0mD\u001b[0m\u001b[1;33m[\u001b[0m\u001b[1;34m\"y\"\u001b[0m\u001b[1;33m]\u001b[0m\u001b[1;33m,\u001b[0m \u001b[0ms\u001b[0m\u001b[1;33m=\u001b[0m\u001b[0mD\u001b[0m\u001b[1;33m[\u001b[0m\u001b[1;34m\"contrib\"\u001b[0m\u001b[1;33m]\u001b[0m\u001b[1;33m*\u001b[0m\u001b[1;36m10\u001b[0m\u001b[1;33m,\u001b[0m \u001b[0mc\u001b[0m\u001b[1;33m=\u001b[0m\u001b[0mD\u001b[0m\u001b[1;33m[\u001b[0m\u001b[1;34m\"team_id\"\u001b[0m\u001b[1;33m]\u001b[0m\u001b[1;33m,\u001b[0m \u001b[0malpha\u001b[0m\u001b[1;33m=\u001b[0m\u001b[1;36m0.5\u001b[0m\u001b[1;33m)\u001b[0m\u001b[1;33m\u001b[0m\u001b[0m\n\u001b[0m\u001b[0;32m      4\u001b[0m \u001b[1;32mfor\u001b[0m \u001b[0mname\u001b[0m\u001b[1;33m,\u001b[0m \u001b[0mx_\u001b[0m\u001b[1;33m,\u001b[0m \u001b[0my_\u001b[0m \u001b[1;32min\u001b[0m \u001b[0mzip\u001b[0m\u001b[1;33m(\u001b[0m\u001b[0mD\u001b[0m\u001b[1;33m[\u001b[0m\u001b[1;34m\"tag\"\u001b[0m\u001b[1;33m]\u001b[0m\u001b[1;33m,\u001b[0m \u001b[0mD\u001b[0m\u001b[1;33m[\u001b[0m\u001b[1;34m\"x\"\u001b[0m\u001b[1;33m]\u001b[0m\u001b[1;33m,\u001b[0m \u001b[0mD\u001b[0m\u001b[1;33m[\u001b[0m\u001b[1;34m\"y\"\u001b[0m\u001b[1;33m]\u001b[0m\u001b[1;33m)\u001b[0m\u001b[1;33m:\u001b[0m\u001b[1;33m\u001b[0m\u001b[0m\n\u001b[0;32m      5\u001b[0m     \u001b[0mplt\u001b[0m\u001b[1;33m.\u001b[0m\u001b[0mannotate\u001b[0m\u001b[1;33m(\u001b[0m\u001b[0mname\u001b[0m\u001b[1;33m,\u001b[0m \u001b[0mxy\u001b[0m\u001b[1;33m=\u001b[0m\u001b[1;33m(\u001b[0m\u001b[0mx_\u001b[0m\u001b[1;33m,\u001b[0m\u001b[0my_\u001b[0m\u001b[1;33m)\u001b[0m\u001b[1;33m)\u001b[0m\u001b[1;33m\u001b[0m\u001b[0m\n",
      "\u001b[1;32m/home/mehdi/anaconda/lib/python2.7/site-packages/matplotlib/pyplot.pyc\u001b[0m in \u001b[0;36mscatter\u001b[1;34m(x, y, s, c, marker, cmap, norm, vmin, vmax, alpha, linewidths, verts, hold, **kwargs)\u001b[0m\n\u001b[0;32m   3192\u001b[0m         ret = ax.scatter(x, y, s=s, c=c, marker=marker, cmap=cmap, norm=norm,\n\u001b[0;32m   3193\u001b[0m                          \u001b[0mvmin\u001b[0m\u001b[1;33m=\u001b[0m\u001b[0mvmin\u001b[0m\u001b[1;33m,\u001b[0m \u001b[0mvmax\u001b[0m\u001b[1;33m=\u001b[0m\u001b[0mvmax\u001b[0m\u001b[1;33m,\u001b[0m \u001b[0malpha\u001b[0m\u001b[1;33m=\u001b[0m\u001b[0malpha\u001b[0m\u001b[1;33m,\u001b[0m\u001b[1;33m\u001b[0m\u001b[0m\n\u001b[1;32m-> 3194\u001b[1;33m                          linewidths=linewidths, verts=verts, **kwargs)\n\u001b[0m\u001b[0;32m   3195\u001b[0m         \u001b[0mdraw_if_interactive\u001b[0m\u001b[1;33m(\u001b[0m\u001b[1;33m)\u001b[0m\u001b[1;33m\u001b[0m\u001b[0m\n\u001b[0;32m   3196\u001b[0m     \u001b[1;32mfinally\u001b[0m\u001b[1;33m:\u001b[0m\u001b[1;33m\u001b[0m\u001b[0m\n",
      "\u001b[1;32m/home/mehdi/anaconda/lib/python2.7/site-packages/matplotlib/axes/_axes.pyc\u001b[0m in \u001b[0;36mscatter\u001b[1;34m(self, x, y, s, c, marker, cmap, norm, vmin, vmax, alpha, linewidths, verts, **kwargs)\u001b[0m\n\u001b[0;32m   3585\u001b[0m                 \u001b[0mc\u001b[0m \u001b[1;33m=\u001b[0m \u001b[0mnp\u001b[0m\u001b[1;33m.\u001b[0m\u001b[0mma\u001b[0m\u001b[1;33m.\u001b[0m\u001b[0mravel\u001b[0m\u001b[1;33m(\u001b[0m\u001b[0mc\u001b[0m\u001b[1;33m)\u001b[0m\u001b[1;33m\u001b[0m\u001b[0m\n\u001b[0;32m   3586\u001b[0m \u001b[1;33m\u001b[0m\u001b[0m\n\u001b[1;32m-> 3587\u001b[1;33m         \u001b[0mx\u001b[0m\u001b[1;33m,\u001b[0m \u001b[0my\u001b[0m\u001b[1;33m,\u001b[0m \u001b[0ms\u001b[0m\u001b[1;33m,\u001b[0m \u001b[0mc\u001b[0m \u001b[1;33m=\u001b[0m \u001b[0mcbook\u001b[0m\u001b[1;33m.\u001b[0m\u001b[0mdelete_masked_points\u001b[0m\u001b[1;33m(\u001b[0m\u001b[0mx\u001b[0m\u001b[1;33m,\u001b[0m \u001b[0my\u001b[0m\u001b[1;33m,\u001b[0m \u001b[0ms\u001b[0m\u001b[1;33m,\u001b[0m \u001b[0mc\u001b[0m\u001b[1;33m)\u001b[0m\u001b[1;33m\u001b[0m\u001b[0m\n\u001b[0m\u001b[0;32m   3588\u001b[0m \u001b[1;33m\u001b[0m\u001b[0m\n\u001b[0;32m   3589\u001b[0m         \u001b[0mscales\u001b[0m \u001b[1;33m=\u001b[0m \u001b[0ms\u001b[0m   \u001b[1;31m# Renamed for readability below.\u001b[0m\u001b[1;33m\u001b[0m\u001b[0m\n",
      "\u001b[1;32m/home/mehdi/anaconda/lib/python2.7/site-packages/matplotlib/cbook.pyc\u001b[0m in \u001b[0;36mdelete_masked_points\u001b[1;34m(*args)\u001b[0m\n\u001b[0;32m   1805\u001b[0m         \u001b[1;32mreturn\u001b[0m \u001b[1;33m(\u001b[0m\u001b[1;33m)\u001b[0m\u001b[1;33m\u001b[0m\u001b[0m\n\u001b[0;32m   1806\u001b[0m     \u001b[1;32mif\u001b[0m \u001b[1;33m(\u001b[0m\u001b[0mis_string_like\u001b[0m\u001b[1;33m(\u001b[0m\u001b[0margs\u001b[0m\u001b[1;33m[\u001b[0m\u001b[1;36m0\u001b[0m\u001b[1;33m]\u001b[0m\u001b[1;33m)\u001b[0m \u001b[1;32mor\u001b[0m \u001b[1;32mnot\u001b[0m \u001b[0miterable\u001b[0m\u001b[1;33m(\u001b[0m\u001b[0margs\u001b[0m\u001b[1;33m[\u001b[0m\u001b[1;36m0\u001b[0m\u001b[1;33m]\u001b[0m\u001b[1;33m)\u001b[0m\u001b[1;33m)\u001b[0m\u001b[1;33m:\u001b[0m\u001b[1;33m\u001b[0m\u001b[0m\n\u001b[1;32m-> 1807\u001b[1;33m         \u001b[1;32mraise\u001b[0m \u001b[0mValueError\u001b[0m\u001b[1;33m(\u001b[0m\u001b[1;34m\"First argument must be a sequence\"\u001b[0m\u001b[1;33m)\u001b[0m\u001b[1;33m\u001b[0m\u001b[0m\n\u001b[0m\u001b[0;32m   1808\u001b[0m     \u001b[0mnrecs\u001b[0m \u001b[1;33m=\u001b[0m \u001b[0mlen\u001b[0m\u001b[1;33m(\u001b[0m\u001b[0margs\u001b[0m\u001b[1;33m[\u001b[0m\u001b[1;36m0\u001b[0m\u001b[1;33m]\u001b[0m\u001b[1;33m)\u001b[0m\u001b[1;33m\u001b[0m\u001b[0m\n\u001b[0;32m   1809\u001b[0m     \u001b[0mmargs\u001b[0m \u001b[1;33m=\u001b[0m \u001b[1;33m[\u001b[0m\u001b[1;33m]\u001b[0m\u001b[1;33m\u001b[0m\u001b[0m\n",
      "\u001b[1;31mValueError\u001b[0m: First argument must be a sequence"
     ]
    },
    {
     "data": {
      "image/png": "[encoded data removed]",
      "text/plain": [
       "<matplotlib.figure.Figure at 0xa2e3e9ec>"
      ]
     },
     "metadata": {},
     "output_type": "display_data"
    }
   ],
   "source": [
    "D = data[data[\"contrib\"] > 2]\n",
    "#D = data[data[\"team\"].str.contains(\"NeuralTheano\")]\n",
    "plt.scatter(D[\"x\"], D[\"y\"], s=D[\"contrib\"]*10, c=D[\"team_id\"], alpha=0.5)\n",
    "for name, x_, y_ in zip(D[\"tag\"], D[\"x\"], D[\"y\"]):\n",
    "    plt.annotate(name, xy=(x_,y_))\n",
    "\n",
    "plt.show()"
   ]
  },
  {
   "cell_type": "code",
   "execution_count": 103,
   "metadata": {
    "collapsed": false
   },
   "outputs": [
    {
     "ename": "NameError",
     "evalue": "name 'models_new' is not defined",
     "output_type": "error",
     "traceback": [
      "\u001b[1;31m---------------------------------------------------------------------------\u001b[0m",
      "\u001b[1;31mNameError\u001b[0m                                 Traceback (most recent call last)",
      "\u001b[1;32m<ipython-input-103-e07659f33b1e>\u001b[0m in \u001b[0;36m<module>\u001b[1;34m()\u001b[0m\n\u001b[0;32m      4\u001b[0m     \u001b[1;32mreturn\u001b[0m \u001b[1;33m-\u001b[0m\u001b[0mnp\u001b[0m\u001b[1;33m.\u001b[0m\u001b[0mmean\u001b[0m\u001b[1;33m(\u001b[0m\u001b[0mnp\u001b[0m\u001b[1;33m.\u001b[0m\u001b[0mlog\u001b[0m\u001b[1;33m(\u001b[0m\u001b[0mprobs\u001b[0m\u001b[1;33m)\u001b[0m\u001b[1;33m)\u001b[0m\u001b[1;33m\u001b[0m\u001b[0m\n\u001b[0;32m      5\u001b[0m \u001b[1;33m\u001b[0m\u001b[0m\n\u001b[1;32m----> 6\u001b[1;33m \u001b[1;32mfor\u001b[0m \u001b[0mi\u001b[0m \u001b[1;32min\u001b[0m \u001b[0mrange\u001b[0m\u001b[1;33m(\u001b[0m\u001b[0mlen\u001b[0m\u001b[1;33m(\u001b[0m\u001b[0mmodels_new\u001b[0m\u001b[1;33m)\u001b[0m\u001b[1;33m)\u001b[0m\u001b[1;33m:\u001b[0m\u001b[1;33m\u001b[0m\u001b[0m\n\u001b[0m\u001b[0;32m      7\u001b[0m     \u001b[0mpred\u001b[0m \u001b[1;33m=\u001b[0m \u001b[0mgetattr\u001b[0m\u001b[1;33m(\u001b[0m\u001b[0mes\u001b[0m\u001b[1;33m,\u001b[0m \u001b[1;34m\"predict_%d\"\u001b[0m \u001b[1;33m%\u001b[0m \u001b[1;33m(\u001b[0m\u001b[0mi\u001b[0m\u001b[1;33m,\u001b[0m\u001b[1;33m)\u001b[0m\u001b[1;33m)\u001b[0m\u001b[1;33m\u001b[0m\u001b[0m\n\u001b[0;32m      8\u001b[0m     \u001b[0mpred_proba\u001b[0m \u001b[1;33m=\u001b[0m \u001b[0mgetattr\u001b[0m\u001b[1;33m(\u001b[0m\u001b[0mes\u001b[0m\u001b[1;33m,\u001b[0m \u001b[1;34m\"predict_proba_%d\"\u001b[0m \u001b[1;33m%\u001b[0m \u001b[1;33m(\u001b[0m\u001b[0mi\u001b[0m\u001b[1;33m,\u001b[0m\u001b[1;33m)\u001b[0m\u001b[1;33m)\u001b[0m\u001b[1;33m\u001b[0m\u001b[0m\n",
      "\u001b[1;31mNameError\u001b[0m: name 'models_new' is not defined"
     ]
    }
   ],
   "source": [
    "def log_multiclass(pred, y):\n",
    "    probs = pred[np.arange(pred.shape[0]), y]\n",
    "    probs = np.maximum(np.minimum(probs, 1 - 1e-15), 1e-15)\n",
    "    return -np.mean(np.log(probs))\n",
    "\n",
    "for i in range(len(models_new)):\n",
    "    pred = getattr(es, \"predict_%d\" % (i,))\n",
    "    pred_proba = getattr(es, \"predict_proba_%d\" % (i,))\n",
    "    print( log_multiclass(pred_proba(X), y) )\n",
    "    print( data[\"score\"][teacher_id] )\n",
    "    #(pred(X_all[idx_rest])==y[idx_rest]).mean()"
   ]
  },
  {
   "cell_type": "code",
   "execution_count": 104,
   "metadata": {
    "collapsed": false
   },
   "outputs": [
    {
     "ename": "NameError",
     "evalue": "name 'teacher_pred' is not defined",
     "output_type": "error",
     "traceback": [
      "\u001b[1;31m---------------------------------------------------------------------------\u001b[0m",
      "\u001b[1;31mNameError\u001b[0m                                 Traceback (most recent call last)",
      "\u001b[1;32m<ipython-input-104-dd5649e671a1>\u001b[0m in \u001b[0;36m<module>\u001b[1;34m()\u001b[0m\n\u001b[1;32m----> 1\u001b[1;33m \u001b[0mplt\u001b[0m\u001b[1;33m.\u001b[0m\u001b[0mhist\u001b[0m\u001b[1;33m(\u001b[0m\u001b[0mteacher_pred\u001b[0m\u001b[1;33m,\u001b[0m \u001b[0mnormed\u001b[0m\u001b[1;33m=\u001b[0m\u001b[0mTrue\u001b[0m\u001b[1;33m,\u001b[0m \u001b[0mlabel\u001b[0m\u001b[1;33m=\u001b[0m\u001b[1;34m'teacher'\u001b[0m\u001b[1;33m,\u001b[0m \u001b[0malpha\u001b[0m\u001b[1;33m=\u001b[0m\u001b[1;36m0.5\u001b[0m\u001b[1;33m)\u001b[0m\u001b[1;33m\u001b[0m\u001b[0m\n\u001b[0m\u001b[0;32m      2\u001b[0m \u001b[0mplt\u001b[0m\u001b[1;33m.\u001b[0m\u001b[0mhist\u001b[0m\u001b[1;33m(\u001b[0m\u001b[0mmodel_pred\u001b[0m\u001b[1;33m,\u001b[0m \u001b[0mnormed\u001b[0m\u001b[1;33m=\u001b[0m\u001b[0mTrue\u001b[0m\u001b[1;33m,\u001b[0m \u001b[0mlabel\u001b[0m\u001b[1;33m=\u001b[0m\u001b[1;34m'student'\u001b[0m\u001b[1;33m,\u001b[0m \u001b[0malpha\u001b[0m\u001b[1;33m=\u001b[0m\u001b[1;36m0.5\u001b[0m\u001b[1;33m)\u001b[0m\u001b[1;33m\u001b[0m\u001b[0m\n\u001b[0;32m      3\u001b[0m \u001b[0mplt\u001b[0m\u001b[1;33m.\u001b[0m\u001b[0mlegend\u001b[0m\u001b[1;33m(\u001b[0m\u001b[1;33m)\u001b[0m\u001b[1;33m\u001b[0m\u001b[0m\n",
      "\u001b[1;31mNameError\u001b[0m: name 'teacher_pred' is not defined"
     ]
    }
   ],
   "source": [
    "plt.hist(teacher_pred, normed=True, label='teacher', alpha=0.5)\n",
    "plt.hist(model_pred, normed=True, label='student', alpha=0.5)\n",
    "plt.legend()"
   ]
  },
  {
   "cell_type": "code",
   "execution_count": 105,
   "metadata": {
    "collapsed": false
   },
   "outputs": [],
   "source": [
    "#models = np.concatenate((o[2), axis=0)\n",
    "models = o\n",
    "models = models.astype(theano.config.floatX)\n",
    "models = models.reshape((models.shape[0], models.shape[1] / y_dim, y_dim))\n",
    "models_train, models_test = models[:, 0:to], models[:, to:]"
   ]
  },
  {
   "cell_type": "code",
   "execution_count": 48,
   "metadata": {
    "collapsed": false,
    "scrolled": true
   },
   "outputs": [
    {
     "name": "stdout",
     "output_type": "stream",
     "text": [
      "(7734, 93)\n",
      "  epoch    loss_std    loss_train    accuracy_test    logloss_test    accuracy\n",
      "-------  ----------  ------------  ---------------  --------------  ----------\n",
      "      0           0       2.28255         0.297634         1.98719     0.30437\n",
      "  epoch    loss_std    loss_train    accuracy_test    logloss_test    accuracy\n",
      "-------  ----------  ------------  ---------------  --------------  ----------\n",
      "      5           0       1.35296          0.62104         1.29583    0.630851\n",
      "  epoch    loss_std    loss_train    accuracy_test    logloss_test    accuracy\n",
      "-------  ----------  ------------  ---------------  --------------  ----------\n",
      "     10           0       1.05632         0.686291         1.05116    0.695759\n",
      "  epoch    loss_std    loss_train    accuracy_test    logloss_test    accuracy\n",
      "-------  ----------  ------------  ---------------  --------------  ----------\n",
      "     15           0      0.915144         0.708357        0.928317      0.7158\n",
      "  epoch    loss_std    loss_train    accuracy_test    logloss_test    accuracy\n",
      "-------  ----------  ------------  ---------------  --------------  ----------\n",
      "     20           0      0.833073         0.718829        0.855798    0.728989\n",
      "  epoch    loss_std    loss_train    accuracy_test    logloss_test    accuracy\n",
      "-------  ----------  ------------  ---------------  --------------  ----------\n",
      "     25           0      0.779234         0.725811        0.808617     0.73804\n"
     ]
    },
    {
     "data": {
      "text/plain": [
       "<lasagne.generative.neural_net.NeuralNet at 0xa310776c>"
      ]
     },
     "execution_count": 48,
     "metadata": {},
     "output_type": "execute_result"
    }
   ],
   "source": [
    "from lasagne import init, nonlinearities, layers\n",
    "from lasagne.generative.neural_net import NeuralNet\n",
    "from lasagne.easy import BatchOptimizer, LightweightModel\n",
    "\n",
    "import theano.tensor as T\n",
    "from collections import OrderedDict\n",
    "def logloss(pred, y): \n",
    "    probs = pred[np.arange(pred.shape[0]), y]\n",
    "    probs = np.maximum(np.minimum(probs, 1 - 1e-15), 1e-15)\n",
    "    return -np.mean(np.log(probs))\n",
    "\n",
    "         \n",
    "x_in = layers.InputLayer(shape=(None, X.shape[1]))\n",
    "h = layers.DenseLayer(x_in, num_units=100,\n",
    "                      W=init.GlorotUniform(),\n",
    "                      nonlinearity=nonlinearities.rectify)\n",
    "y_out = layers.DenseLayer(h, num_units=9,\n",
    "                          W=init.GlorotUniform(),\n",
    "                          nonlinearity=nonlinearities.softmax)\n",
    "nnet_x_to_y = LightweightModel([x_in],\n",
    "                               [y_out])\n",
    "\n",
    "class MyBatchOptimizer(BatchOptimizer):\n",
    "\n",
    "    def iter_update(self, epoch, nb_batches, iter_update_batch):\n",
    "        res = super(MyBatchOptimizer, self).iter_update(epoch, nb_batches, iter_update_batch)\n",
    "        res.update(OrderedDict({\n",
    "                \"accuracy\": (self.model.predict(X_train)==y_train).mean(),\n",
    "                \"accuracy_test\": (self.model.predict(X_test)==y_test).mean(),\n",
    "                \"logloss_test\": (logloss(self.model.predict_proba(X_test), y_test))\n",
    "        }))\n",
    "        return res\n",
    "\n",
    "batch_optimizer = MyBatchOptimizer(max_nb_epochs=30,\n",
    "                                   optimization_procedure=(updates.adadelta, {\"learning_rate\" : 1}),\n",
    "                                   batch_size=X_train.shape[0],\n",
    "                                   patience_nb_epochs=20,\n",
    "                                   patience_progression_rate_threshold=0.0001,\n",
    "                                   report_each=5,\n",
    "                                   verbose=1)\n",
    "\n",
    "def loss(pred, real):\n",
    "    lambda_ = 1. # how much give importance to logloss compared to kl\n",
    "    m = theano.shared(models_train)\n",
    "    loss_kl = -(m * T.log(pred)).mean(axis=2).mean(axis=0)\n",
    "    loss =  lambda_ * T.nnet.categorical_crossentropy(pred, real) + (1 - lambda_) * loss_kl\n",
    "    return loss\n",
    "\n",
    "model = NeuralNet(nnet_x_to_y, batch_optimizer=batch_optimizer, loss_function=loss)\n",
    "model.fit(X_train, y_train)"
   ]
  }
 ],
 "metadata": {
  "kernelspec": {
   "display_name": "Python 2",
   "language": "python",
   "name": "python2"
  },
  "language_info": {
   "codemirror_mode": {
    "name": "ipython",
    "version": 2
   },
   "file_extension": ".py",
   "mimetype": "text/x-python",
   "name": "python",
   "nbconvert_exporter": "python",
   "pygments_lexer": "ipython2",
   "version": "2.7.9"
  }
 },
 "nbformat": 4,
 "nbformat_minor": 0
}
